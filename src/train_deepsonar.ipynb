{
 "cells": [
  {
   "cell_type": "markdown",
   "metadata": {},
   "source": [
    "### This notebook is for quickly getting the DeepSonar training running.\n",
    "\n",
    "In the future we can put this stuff in a Python file (e.g., train_deepsonar.py).\n",
    "\n",
    "I'm following the tf data tutorial from offical website: https://www.tensorflow.org/guide/data"
   ]
  },
  {
   "cell_type": "code",
   "execution_count": 2,
   "metadata": {},
   "outputs": [
    {
     "data": {
      "text/plain": [
       "True"
      ]
     },
     "execution_count": 2,
     "metadata": {},
     "output_type": "execute_result"
    }
   ],
   "source": [
    "import os\n",
    "for_data_path = \"D:/for-norm\"\n",
    "os.path.exists(for_data_path)"
   ]
  },
  {
   "cell_type": "code",
   "execution_count": 4,
   "metadata": {},
   "outputs": [],
   "source": [
    "import pathlib\n",
    "for_data_path = pathlib.Path(for_data_path)"
   ]
  },
  {
   "cell_type": "code",
   "execution_count": 5,
   "metadata": {},
   "outputs": [
    {
     "name": "stdout",
     "output_type": "stream",
     "text": [
      "testing\n",
      "training\n",
      "validation\n"
     ]
    }
   ],
   "source": [
    "for item in for_data_path.glob(\"*\"):\n",
    "    print(item.name)"
   ]
  },
  {
   "cell_type": "code",
   "execution_count": 6,
   "metadata": {},
   "outputs": [],
   "source": [
    "import tensorflow as tf\n",
    "list_ds = tf.data.Dataset.list_files(str(for_data_path/'*/*'))"
   ]
  },
  {
   "cell_type": "code",
   "execution_count": 7,
   "metadata": {},
   "outputs": [
    {
     "name": "stdout",
     "output_type": "stream",
     "text": [
      "b'D:\\\\for-norm\\\\validation\\\\fake'\n",
      "b'D:\\\\for-norm\\\\testing\\\\fake'\n",
      "b'D:\\\\for-norm\\\\training\\\\fake'\n",
      "b'D:\\\\for-norm\\\\testing\\\\real'\n",
      "b'D:\\\\for-norm\\\\validation\\\\real'\n"
     ]
    }
   ],
   "source": [
    "for f in list_ds.take(5):\n",
    "    print(f.numpy())"
   ]
  },
  {
   "cell_type": "code",
   "execution_count": 8,
   "metadata": {},
   "outputs": [
    {
     "name": "stdout",
     "output_type": "stream",
     "text": [
      "fake\n",
      "real\n"
     ]
    }
   ],
   "source": [
    "# need to go one level deeper to match example\n",
    "train_path = \"D:/for-norm/training/\"\n",
    "train_path = pathlib.Path(train_path)\n",
    "for item in train_path.glob(\"*\"):\n",
    "    print(item.name)"
   ]
  },
  {
   "cell_type": "code",
   "execution_count": 11,
   "metadata": {},
   "outputs": [
    {
     "name": "stdout",
     "output_type": "stream",
     "text": [
      "b'D:\\\\for-norm\\\\training\\\\fake\\\\file20409.mp3.wav_16k.wav_norm.wav_mono.wav_silence.wav'\n",
      "b'D:\\\\for-norm\\\\training\\\\real\\\\file27492.wav_16k.wav_norm.wav_mono.wav_silence.wav'\n",
      "b'D:\\\\for-norm\\\\training\\\\real\\\\file5038.wav_16k.wav_norm.wav_mono.wav_silence.wav'\n",
      "b'D:\\\\for-norm\\\\training\\\\real\\\\file30506.wav_16k.wav_norm.wav_mono.wav_silence.wav'\n",
      "b'D:\\\\for-norm\\\\training\\\\fake\\\\file6394.mp3.wav_16k.wav_norm.wav_mono.wav_silence.wav'\n"
     ]
    }
   ],
   "source": [
    "list_ds = tf.data.Dataset.list_files(str(train_path/'*/*'))\n",
    "\n",
    "for f in list_ds.take(5):\n",
    "    print(f.numpy())"
   ]
  },
  {
   "cell_type": "code",
   "execution_count": 12,
   "metadata": {},
   "outputs": [],
   "source": [
    "def process_path(file_path):\n",
    "    label = tf.strings.split(file_path, os.sep)[-2]\n",
    "    return tf.io.read_file(file_path), label\n",
    "\n",
    "labeled_ds = list_ds.map(process_path)"
   ]
  },
  {
   "cell_type": "code",
   "execution_count": 13,
   "metadata": {},
   "outputs": [
    {
     "name": "stdout",
     "output_type": "stream",
     "text": [
      "b'RIFF\\xa8\\x98\\x00\\x00WAVEfmt \\x10\\x00\\x00\\x00\\x01\\x00\\x01\\x00\\x80>\\x00\\x00\\x00}\\x00\\x00\\x02\\x00\\x10\\x00data\\x84\\x98\\x00\\x00s\\xf3\\x8a\\xf3\\xeb\\xf3X\\xf5\\x1a\\xf7\\x98\\xfa\\xf1\\xfct\\xff\\xa0\\x01\\xfe\\x02&\\x04\\xa7\\x05\\xf6\\x06\\xd1\\t&\\x0e\\x10\\x11V\\x13\\xdd\\x13_\\x14#\\x13\\xb9\\x13\\xe9\\x12*\\x12w\\x10\\xcc\\x10w\\x12\\xed\\x10\\x9b\\x0f'\n",
      "\n",
      "b'fake'\n"
     ]
    }
   ],
   "source": [
    "for audio_raw, label_text in labeled_ds.take(1):\n",
    "    print(repr(audio_raw.numpy()[:100]))\n",
    "    print()\n",
    "    print(label_text.numpy())"
   ]
  },
  {
   "cell_type": "code",
   "execution_count": null,
   "metadata": {},
   "outputs": [],
   "source": []
  }
 ],
 "metadata": {
  "kernelspec": {
   "display_name": "Python 3.10.4 ('deepsonar')",
   "language": "python",
   "name": "python3"
  },
  "language_info": {
   "codemirror_mode": {
    "name": "ipython",
    "version": 3
   },
   "file_extension": ".py",
   "mimetype": "text/x-python",
   "name": "python",
   "nbconvert_exporter": "python",
   "pygments_lexer": "ipython3",
   "version": "3.10.4"
  },
  "orig_nbformat": 4,
  "vscode": {
   "interpreter": {
    "hash": "7b169fc37a8998e8f2ffceaf7c41808bff9133c523bea2e6e0656b877adb7beb"
   }
  }
 },
 "nbformat": 4,
 "nbformat_minor": 2
}
