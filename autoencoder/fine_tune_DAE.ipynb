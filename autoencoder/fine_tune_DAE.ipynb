{
 "cells": [
  {
   "cell_type": "markdown",
   "metadata": {},
   "source": [
    "## In this notebook, we will fine-tune the Denoising Autoencoder (DAE) on our dataset of fake and real voices.\n",
    "\n",
    "Again, see this repo for the autoencoder architecture: https://github.com/vbelz/Speech-enhancement"
   ]
  },
  {
   "cell_type": "code",
   "execution_count": 1,
   "metadata": {},
   "outputs": [
    {
     "data": {
      "text/plain": [
       "[PhysicalDevice(name='/physical_device:CPU:0', device_type='CPU'),\n",
       " PhysicalDevice(name='/physical_device:GPU:0', device_type='GPU')]"
      ]
     },
     "execution_count": 1,
     "metadata": {},
     "output_type": "execute_result"
    }
   ],
   "source": [
    "# tensorflow and GPU is very buggy on Windows\n",
    "# however, this cell solves the problem of tensorflow not detecting any GPUs\n",
    "# https://github.com/tensorflow/tensorflow/issues/48868 provides the solution\n",
    "import os\n",
    "os.add_dll_directory(\"C:/Program Files/NVIDIA GPU Computing Toolkit/CUDA/v11.2/bin\") # tf can now see the CUDA directory\n",
    "\n",
    "import tensorflow as tf\n",
    "tf.config.list_physical_devices() # GPU should now appear"
   ]
  },
  {
   "cell_type": "code",
   "execution_count": 2,
   "metadata": {},
   "outputs": [],
   "source": [
    "import denoising_AE as DAE # contains useful functions from repo"
   ]
  },
  {
   "cell_type": "code",
   "execution_count": 3,
   "metadata": {},
   "outputs": [
    {
     "name": "stdout",
     "output_type": "stream",
     "text": [
      "Model: \"model_2\"\n",
      "__________________________________________________________________________________________________\n",
      " Layer (type)                   Output Shape         Param #     Connected to                     \n",
      "==================================================================================================\n",
      " input_3 (InputLayer)           [(None, 128, 128, 1  0           []                               \n",
      "                                )]                                                                \n",
      "                                                                                                  \n",
      " conv2d_48 (Conv2D)             (None, 128, 128, 16  160         ['input_3[0][0]']                \n",
      "                                )                                                                 \n",
      "                                                                                                  \n",
      " leaky_re_lu_46 (LeakyReLU)     (None, 128, 128, 16  0           ['conv2d_48[0][0]']              \n",
      "                                )                                                                 \n",
      "                                                                                                  \n",
      " conv2d_49 (Conv2D)             (None, 128, 128, 16  2320        ['leaky_re_lu_46[0][0]']         \n",
      "                                )                                                                 \n",
      "                                                                                                  \n",
      " leaky_re_lu_47 (LeakyReLU)     (None, 128, 128, 16  0           ['conv2d_49[0][0]']              \n",
      "                                )                                                                 \n",
      "                                                                                                  \n",
      " max_pooling2d_8 (MaxPooling2D)  (None, 64, 64, 16)  0           ['leaky_re_lu_47[0][0]']         \n",
      "                                                                                                  \n",
      " conv2d_50 (Conv2D)             (None, 64, 64, 32)   4640        ['max_pooling2d_8[0][0]']        \n",
      "                                                                                                  \n",
      " leaky_re_lu_48 (LeakyReLU)     (None, 64, 64, 32)   0           ['conv2d_50[0][0]']              \n",
      "                                                                                                  \n",
      " conv2d_51 (Conv2D)             (None, 64, 64, 32)   9248        ['leaky_re_lu_48[0][0]']         \n",
      "                                                                                                  \n",
      " leaky_re_lu_49 (LeakyReLU)     (None, 64, 64, 32)   0           ['conv2d_51[0][0]']              \n",
      "                                                                                                  \n",
      " max_pooling2d_9 (MaxPooling2D)  (None, 32, 32, 32)  0           ['leaky_re_lu_49[0][0]']         \n",
      "                                                                                                  \n",
      " conv2d_52 (Conv2D)             (None, 32, 32, 64)   18496       ['max_pooling2d_9[0][0]']        \n",
      "                                                                                                  \n",
      " leaky_re_lu_50 (LeakyReLU)     (None, 32, 32, 64)   0           ['conv2d_52[0][0]']              \n",
      "                                                                                                  \n",
      " conv2d_53 (Conv2D)             (None, 32, 32, 64)   36928       ['leaky_re_lu_50[0][0]']         \n",
      "                                                                                                  \n",
      " leaky_re_lu_51 (LeakyReLU)     (None, 32, 32, 64)   0           ['conv2d_53[0][0]']              \n",
      "                                                                                                  \n",
      " max_pooling2d_10 (MaxPooling2D  (None, 16, 16, 64)  0           ['leaky_re_lu_51[0][0]']         \n",
      " )                                                                                                \n",
      "                                                                                                  \n",
      " conv2d_54 (Conv2D)             (None, 16, 16, 128)  73856       ['max_pooling2d_10[0][0]']       \n",
      "                                                                                                  \n",
      " leaky_re_lu_52 (LeakyReLU)     (None, 16, 16, 128)  0           ['conv2d_54[0][0]']              \n",
      "                                                                                                  \n",
      " conv2d_55 (Conv2D)             (None, 16, 16, 128)  147584      ['leaky_re_lu_52[0][0]']         \n",
      "                                                                                                  \n",
      " leaky_re_lu_53 (LeakyReLU)     (None, 16, 16, 128)  0           ['conv2d_55[0][0]']              \n",
      "                                                                                                  \n",
      " dropout_4 (Dropout)            (None, 16, 16, 128)  0           ['leaky_re_lu_53[0][0]']         \n",
      "                                                                                                  \n",
      " max_pooling2d_11 (MaxPooling2D  (None, 8, 8, 128)   0           ['dropout_4[0][0]']              \n",
      " )                                                                                                \n",
      "                                                                                                  \n",
      " conv2d_56 (Conv2D)             (None, 8, 8, 256)    295168      ['max_pooling2d_11[0][0]']       \n",
      "                                                                                                  \n",
      " leaky_re_lu_54 (LeakyReLU)     (None, 8, 8, 256)    0           ['conv2d_56[0][0]']              \n",
      "                                                                                                  \n",
      " conv2d_57 (Conv2D)             (None, 8, 8, 256)    590080      ['leaky_re_lu_54[0][0]']         \n",
      "                                                                                                  \n",
      " leaky_re_lu_55 (LeakyReLU)     (None, 8, 8, 256)    0           ['conv2d_57[0][0]']              \n",
      "                                                                                                  \n",
      " dropout_5 (Dropout)            (None, 8, 8, 256)    0           ['leaky_re_lu_55[0][0]']         \n",
      "                                                                                                  \n",
      " up_sampling2d_8 (UpSampling2D)  (None, 16, 16, 256)  0          ['dropout_5[0][0]']              \n",
      "                                                                                                  \n",
      " conv2d_58 (Conv2D)             (None, 16, 16, 128)  131200      ['up_sampling2d_8[0][0]']        \n",
      "                                                                                                  \n",
      " leaky_re_lu_56 (LeakyReLU)     (None, 16, 16, 128)  0           ['conv2d_58[0][0]']              \n",
      "                                                                                                  \n",
      " concatenate_8 (Concatenate)    (None, 16, 16, 256)  0           ['dropout_4[0][0]',              \n",
      "                                                                  'leaky_re_lu_56[0][0]']         \n",
      "                                                                                                  \n",
      " conv2d_59 (Conv2D)             (None, 16, 16, 128)  295040      ['concatenate_8[0][0]']          \n",
      "                                                                                                  \n",
      " leaky_re_lu_57 (LeakyReLU)     (None, 16, 16, 128)  0           ['conv2d_59[0][0]']              \n",
      "                                                                                                  \n",
      " conv2d_60 (Conv2D)             (None, 16, 16, 128)  147584      ['leaky_re_lu_57[0][0]']         \n",
      "                                                                                                  \n",
      " leaky_re_lu_58 (LeakyReLU)     (None, 16, 16, 128)  0           ['conv2d_60[0][0]']              \n",
      "                                                                                                  \n",
      " up_sampling2d_9 (UpSampling2D)  (None, 32, 32, 128)  0          ['leaky_re_lu_58[0][0]']         \n",
      "                                                                                                  \n",
      " conv2d_61 (Conv2D)             (None, 32, 32, 64)   32832       ['up_sampling2d_9[0][0]']        \n",
      "                                                                                                  \n",
      " leaky_re_lu_59 (LeakyReLU)     (None, 32, 32, 64)   0           ['conv2d_61[0][0]']              \n",
      "                                                                                                  \n",
      " concatenate_9 (Concatenate)    (None, 32, 32, 128)  0           ['leaky_re_lu_51[0][0]',         \n",
      "                                                                  'leaky_re_lu_59[0][0]']         \n",
      "                                                                                                  \n",
      " conv2d_62 (Conv2D)             (None, 32, 32, 64)   73792       ['concatenate_9[0][0]']          \n",
      "                                                                                                  \n",
      " leaky_re_lu_60 (LeakyReLU)     (None, 32, 32, 64)   0           ['conv2d_62[0][0]']              \n",
      "                                                                                                  \n",
      " conv2d_63 (Conv2D)             (None, 32, 32, 64)   36928       ['leaky_re_lu_60[0][0]']         \n",
      "                                                                                                  \n",
      " leaky_re_lu_61 (LeakyReLU)     (None, 32, 32, 64)   0           ['conv2d_63[0][0]']              \n",
      "                                                                                                  \n",
      " up_sampling2d_10 (UpSampling2D  (None, 64, 64, 64)  0           ['leaky_re_lu_61[0][0]']         \n",
      " )                                                                                                \n",
      "                                                                                                  \n",
      " conv2d_64 (Conv2D)             (None, 64, 64, 32)   8224        ['up_sampling2d_10[0][0]']       \n",
      "                                                                                                  \n",
      " leaky_re_lu_62 (LeakyReLU)     (None, 64, 64, 32)   0           ['conv2d_64[0][0]']              \n",
      "                                                                                                  \n",
      " concatenate_10 (Concatenate)   (None, 64, 64, 64)   0           ['leaky_re_lu_49[0][0]',         \n",
      "                                                                  'leaky_re_lu_62[0][0]']         \n",
      "                                                                                                  \n",
      " conv2d_65 (Conv2D)             (None, 64, 64, 32)   18464       ['concatenate_10[0][0]']         \n",
      "                                                                                                  \n",
      " leaky_re_lu_63 (LeakyReLU)     (None, 64, 64, 32)   0           ['conv2d_65[0][0]']              \n",
      "                                                                                                  \n",
      " conv2d_66 (Conv2D)             (None, 64, 64, 32)   9248        ['leaky_re_lu_63[0][0]']         \n",
      "                                                                                                  \n",
      " leaky_re_lu_64 (LeakyReLU)     (None, 64, 64, 32)   0           ['conv2d_66[0][0]']              \n",
      "                                                                                                  \n",
      " up_sampling2d_11 (UpSampling2D  (None, 128, 128, 32  0          ['leaky_re_lu_64[0][0]']         \n",
      " )                              )                                                                 \n",
      "                                                                                                  \n",
      " conv2d_67 (Conv2D)             (None, 128, 128, 16  2064        ['up_sampling2d_11[0][0]']       \n",
      "                                )                                                                 \n",
      "                                                                                                  \n",
      " leaky_re_lu_65 (LeakyReLU)     (None, 128, 128, 16  0           ['conv2d_67[0][0]']              \n",
      "                                )                                                                 \n",
      "                                                                                                  \n",
      " concatenate_11 (Concatenate)   (None, 128, 128, 32  0           ['leaky_re_lu_47[0][0]',         \n",
      "                                )                                 'leaky_re_lu_65[0][0]']         \n",
      "                                                                                                  \n",
      " conv2d_68 (Conv2D)             (None, 128, 128, 16  4624        ['concatenate_11[0][0]']         \n",
      "                                )                                                                 \n",
      "                                                                                                  \n",
      " leaky_re_lu_66 (LeakyReLU)     (None, 128, 128, 16  0           ['conv2d_68[0][0]']              \n",
      "                                )                                                                 \n",
      "                                                                                                  \n",
      " conv2d_69 (Conv2D)             (None, 128, 128, 16  2320        ['leaky_re_lu_66[0][0]']         \n",
      "                                )                                                                 \n",
      "                                                                                                  \n",
      " leaky_re_lu_67 (LeakyReLU)     (None, 128, 128, 16  0           ['conv2d_69[0][0]']              \n",
      "                                )                                                                 \n",
      "                                                                                                  \n",
      " conv2d_70 (Conv2D)             (None, 128, 128, 2)  290         ['leaky_re_lu_67[0][0]']         \n",
      "                                                                                                  \n",
      " leaky_re_lu_68 (LeakyReLU)     (None, 128, 128, 2)  0           ['conv2d_70[0][0]']              \n",
      "                                                                                                  \n",
      " conv2d_71 (Conv2D)             (None, 128, 128, 1)  3           ['leaky_re_lu_68[0][0]']         \n",
      "                                                                                                  \n",
      "==================================================================================================\n",
      "Total params: 1,941,093\n",
      "Trainable params: 1,941,093\n",
      "Non-trainable params: 0\n",
      "__________________________________________________________________________________________________\n"
     ]
    }
   ],
   "source": [
    "# grab the model to fine tune\n",
    "dae = DAE.load_pretrained_model(display_summary=True)"
   ]
  },
  {
   "cell_type": "markdown",
   "metadata": {},
   "source": [
    "### To fine-tune this model, we want to denoise our real voices.\n",
    "\n",
    "So, load the real voices from the hard drive, then add noise to the dataset."
   ]
  },
  {
   "cell_type": "code",
   "execution_count": null,
   "metadata": {},
   "outputs": [],
   "source": [
    "AUDIO_LENGTH = 64000 # 16000 per second, since that is the sample rate"
   ]
  },
  {
   "cell_type": "code",
   "execution_count": null,
   "metadata": {},
   "outputs": [],
   "source": [
    "# get the training data (only use real voices)\n",
    "# need to look at reconstruction errors\n",
    "train_ds = tf.keras.utils.audio_dataset_from_directory(\n",
    "    directory=\"for-norm/training/real\",\n",
    "    batch_size=64,\n",
    "    validation_split=0,\n",
    "    seed=0,\n",
    "    labels=None,\n",
    "    output_sequence_length=AUDIO_LENGTH # 16000 => all truncated to 1 second, None => all padded to length of longest file\n",
    ")"
   ]
  }
 ],
 "metadata": {
  "kernelspec": {
   "display_name": "Python 3.10.8 ('env': venv)",
   "language": "python",
   "name": "python3"
  },
  "language_info": {
   "codemirror_mode": {
    "name": "ipython",
    "version": 3
   },
   "file_extension": ".py",
   "mimetype": "text/x-python",
   "name": "python",
   "nbconvert_exporter": "python",
   "pygments_lexer": "ipython3",
   "version": "3.10.8"
  },
  "orig_nbformat": 4,
  "vscode": {
   "interpreter": {
    "hash": "22b7a1a76ff0e44bd3e0c7325e92416c67354c90d61f586136cb79dad8d9bb22"
   }
  }
 },
 "nbformat": 4,
 "nbformat_minor": 2
}
