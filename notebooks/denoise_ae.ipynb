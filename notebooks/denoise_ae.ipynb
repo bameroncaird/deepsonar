{
 "cells": [
  {
   "cell_type": "code",
   "execution_count": null,
   "metadata": {},
   "outputs": [],
   "source": []
  },
  {
   "cell_type": "code",
   "execution_count": null,
   "metadata": {},
   "outputs": [],
   "source": []
  },
  {
   "cell_type": "markdown",
   "metadata": {},
   "source": [
    "Old below"
   ]
  },
  {
   "cell_type": "code",
   "execution_count": null,
   "metadata": {},
   "outputs": [],
   "source": [
    "from keras.layers import BatchNormalization,Dropout,Dense,Input,LeakyReLU\n",
    "from keras import backend as K\n",
    "from keras.callbacks import ModelCheckpoint,TensorBoard\n",
    "from keras.models import Model\n",
    "from keras.utils import plot_model\n",
    "from keras.initializers import he_normal\n",
    "from keras.models import model_from_json\n",
    "from keras import optimizers"
   ]
  },
  {
   "cell_type": "code",
   "execution_count": null,
   "metadata": {},
   "outputs": [],
   "source": [
    "# architecture from GitHub\n",
    "n_hidden1 = 2049\n",
    "n_hidden2 = 500\n",
    "n_hidden3 = 180\n",
    "\n",
    "# encode\n",
    "InputLayer1 = Input(shape=(n_input_dim,), name=\"InputLayer\")\n",
    "InputLayer2 = BatchNormalization(axis=1, momentum=0.6)(InputLayer1)\n",
    "\n",
    "HiddenLayer1_1 = Dense(n_hidden1, name=\"H1\", activation='relu', kernel_initializer=he_normal(seed=27))(InputLayer2)\n",
    "HiddenLayer1_2 = BatchNormalization(axis=1, momentum=0.6)(HiddenLayer1_1)\n",
    "HiddenLayer1_3 = Dropout(0.1)(HiddenLayer1_2)\n",
    "\n",
    "HiddenLayer2_1 = Dense(n_hidden2, name=\"H2\", activation='relu', kernel_initializer=he_normal(seed=42))(HiddenLayer1_3)\n",
    "HiddenLayer2_2 = BatchNormalization(axis=1, momentum=0.6)(HiddenLayer2_1)\n",
    "\n",
    "# latent space\n",
    "HiddenLayer3_1 = Dense(n_hidden3, name=\"H3\", activation='relu', kernel_initializer=he_normal(seed=65))(HiddenLayer2_2)\n",
    "HiddenLayer3_2 = BatchNormalization(axis=1, momentum=0.6)(HiddenLayer3_1)\n",
    "\n",
    "# decode\n",
    "HiddenLayer2__1 = Dense(n_hidden2, name=\"H2_R\", activation='relu', kernel_initializer=he_normal(seed=42))(HiddenLayer3_2)\n",
    "HiddenLayer2__2 = BatchNormalization(axis=1, momentum=0.6)(HiddenLayer2__1)\n",
    "\n",
    "HiddenLayer1__1 = Dense(n_hidden1, name=\"H1_R\", activation='relu', kernel_initializer=he_normal(seed=27))(HiddenLayer2__2)\n",
    "HiddenLayer1__2 = BatchNormalization(axis=1, momentum=0.6)(HiddenLayer1__1)\n",
    "HiddenLayer1__3 = Dropout(0.1)(HiddenLayer1__2)\n",
    "\n",
    "OutputLayer = Dense(n_output_dim, name=\"OutputLayer\", kernel_initializer=he_normal(seed=62))(HiddenLayer1__3)\n",
    "\n",
    "model = Model(inputs=[InputLayer1], outputs=[OutputLayer])"
   ]
  }
 ],
 "metadata": {
  "kernelspec": {
   "display_name": "Python 3.10.8 ('env': venv)",
   "language": "python",
   "name": "python3"
  },
  "language_info": {
   "name": "python",
   "version": "3.10.8"
  },
  "orig_nbformat": 4,
  "vscode": {
   "interpreter": {
    "hash": "22b7a1a76ff0e44bd3e0c7325e92416c67354c90d61f586136cb79dad8d9bb22"
   }
  }
 },
 "nbformat": 4,
 "nbformat_minor": 2
}
